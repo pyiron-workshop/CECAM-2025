{
 "cells": [
  {
   "cell_type": "code",
   "execution_count": null,
   "id": "beafad75-8e13-4f15-9481-a8bdab5377dd",
   "metadata": {},
   "outputs": [],
   "source": [
    "from ase.atoms import Atoms\n",
    "from ase.build import bulk as _bulk"
   ]
  },
  {
   "cell_type": "code",
   "execution_count": null,
   "id": "6a5d6e28-23aa-4b99-b48f-03a53611c782",
   "metadata": {},
   "outputs": [],
   "source": [
    "from atomistics.workflows import (\n",
    "    optimize_positions_and_volume as _optimize_positions_and_volume,\n",
    ")\n",
    "from atomistics.workflows.evcurve.helper import (\n",
    "    analyse_structures_helper,\n",
    "    generate_structures_helper,\n",
    ")\n",
    "from atomistics.calculators import (\n",
    "    evaluate_with_lammpslib as _evaluate_with_lammpslib, \n",
    "    get_potential_by_name as _get_potential_by_name,\n",
    ")"
   ]
  },
  {
   "cell_type": "code",
   "execution_count": null,
   "id": "7045dccd-f3c7-48cc-bd65-bd407ea34dfb",
   "metadata": {},
   "outputs": [],
   "source": [
    "import pandas"
   ]
  },
  {
   "cell_type": "code",
   "execution_count": null,
   "id": "e7c08bf2-e53d-42ea-9d0b-12a0a18e34ba",
   "metadata": {},
   "outputs": [],
   "source": [
    "from pyiron_workflow import as_function_node, Workflow"
   ]
  },
  {
   "cell_type": "code",
   "execution_count": null,
   "id": "1ce8c439-8697-4fe0-a2e3-d6589f1083a0",
   "metadata": {},
   "outputs": [],
   "source": [
    "@as_function_node\n",
    "def bulk(name: str, cubic: bool = False) -> Atoms:\n",
    "    return _bulk(name=name, cubic=cubic)"
   ]
  },
  {
   "cell_type": "code",
   "execution_count": null,
   "id": "3ffba8c0-4c6b-4aa1-a889-d394fb3f9b5d",
   "metadata": {},
   "outputs": [],
   "source": [
    "@as_function_node\n",
    "def get_potential_by_name(potential_name: str) -> pandas.Series:\n",
    "    return _get_potential_by_name(potential_name=potential_name)"
   ]
  },
  {
   "cell_type": "code",
   "execution_count": null,
   "id": "e06e9f68-7f1f-4b17-8600-e66c8a9177ba",
   "metadata": {},
   "outputs": [],
   "source": [
    "@as_function_node\n",
    "def optimize_positions_and_volume(structure: Atoms) -> dict:\n",
    "    return _optimize_positions_and_volume(structure=structure)"
   ]
  },
  {
   "cell_type": "code",
   "execution_count": null,
   "id": "4cb0e540-a447-4461-8e2a-3de91c73eaaf",
   "metadata": {},
   "outputs": [],
   "source": [
    "@as_function_node\n",
    "def evaluate_with_lammpslib(task_dict: dict, potential_dataframe: pandas.Series) -> dict:\n",
    "    return _evaluate_with_lammpslib(task_dict=task_dict, potential_dataframe=potential_dataframe)"
   ]
  },
  {
   "cell_type": "code",
   "execution_count": null,
   "id": "cf60ad19-1a7c-4976-83ae-d8491f91efb2",
   "metadata": {},
   "outputs": [],
   "source": [
    "@as_function_node\n",
    "def evcurve_generate_structures(structure: dict, vol_range: float, num_points: int) -> dict:\n",
    "    return {\n",
    "        \"calc_energy\": generate_structures_helper(\n",
    "            structure=structure[\"structure_with_optimized_positions_and_volume\"],\n",
    "            vol_range=vol_range,\n",
    "            num_points=num_points,\n",
    "        ),\n",
    "    }"
   ]
  },
  {
   "cell_type": "code",
   "execution_count": null,
   "id": "6ff036c5-9036-4b29-ab5e-e6bbb6bc96b7",
   "metadata": {},
   "outputs": [],
   "source": [
    "@as_function_node\n",
    "def evcurve_analyse_structures(output_dict: dict, structure_dict: dict, fit_type: str = \"polynomial\", fit_order: int = 3) -> dict:\n",
    "    return analyse_structures_helper(\n",
    "        output_dict=output_dict,\n",
    "        structure_dict=structure_dict[\"calc_energy\"],\n",
    "        fit_type=fit_type,\n",
    "        fit_order=fit_order,\n",
    "    )"
   ]
  },
  {
   "cell_type": "code",
   "execution_count": null,
   "id": "5b30538b-9f43-482e-b103-8cafe1aba288",
   "metadata": {},
   "outputs": [],
   "source": [
    "wf = Workflow(label=\"evcurve\")"
   ]
  },
  {
   "cell_type": "code",
   "execution_count": null,
   "id": "6b3b65bf-bc7f-4521-8968-9a6d8327a27d",
   "metadata": {},
   "outputs": [],
   "source": [
    "wf.structure = bulk(\"Al\", cubic=True)"
   ]
  },
  {
   "cell_type": "code",
   "execution_count": null,
   "id": "eed5e336-5576-4998-8b9c-dc28a68c229c",
   "metadata": {},
   "outputs": [],
   "source": [
    "wf.df_pot_selected = get_potential_by_name(\n",
    "    potential_name=\"1999--Mishin-Y--Al--LAMMPS--ipr1\",\n",
    ")"
   ]
  },
  {
   "cell_type": "code",
   "execution_count": null,
   "id": "fb214270-922a-4270-a666-a160d90480ab",
   "metadata": {},
   "outputs": [],
   "source": [
    "wf.opt_task_dict = optimize_positions_and_volume(structure=wf.structure)"
   ]
  },
  {
   "cell_type": "code",
   "execution_count": null,
   "id": "8e6cb3ea-ca02-4ff9-be8c-ab737935d49e",
   "metadata": {},
   "outputs": [],
   "source": [
    "wf.opt_result_dict = evaluate_with_lammpslib(\n",
    "    task_dict=wf.opt_task_dict,\n",
    "    potential_dataframe=wf.df_pot_selected,\n",
    ")"
   ]
  },
  {
   "cell_type": "code",
   "execution_count": null,
   "id": "f66f2dc4-9f85-417b-8ef4-8e9f9eba03cc",
   "metadata": {},
   "outputs": [],
   "source": [
    "wf.structure_dict = evcurve_generate_structures(\n",
    "    structure=wf.opt_result_dict,\n",
    "    vol_range=0.05,\n",
    "    num_points=11,\n",
    ")"
   ]
  },
  {
   "cell_type": "code",
   "execution_count": null,
   "id": "00a2183a-ab06-4fde-8319-af802292fd44",
   "metadata": {},
   "outputs": [],
   "source": [
    "wf.result_dict = evaluate_with_lammpslib(\n",
    "    task_dict=wf.structure_dict,\n",
    "    potential_dataframe=wf.df_pot_selected,\n",
    ")"
   ]
  },
  {
   "cell_type": "code",
   "execution_count": null,
   "id": "0cb7b62a-cdc1-453e-a3a5-09476fb04983",
   "metadata": {},
   "outputs": [],
   "source": [
    "wf.fit_dict = evcurve_analyse_structures(\n",
    "    output_dict=wf.result_dict,\n",
    "    structure_dict=wf.structure_dict,\n",
    "    fit_type=\"polynomial\",\n",
    "    fit_order=3,\n",
    ")\n",
    "wf.fit_dict.pull()"
   ]
  },
  {
   "cell_type": "code",
   "execution_count": null,
   "id": "e81b7c50-0a91-4fd1-854c-85a8200849f1",
   "metadata": {},
   "outputs": [],
   "source": [
    "wf.draw(size=(10,10))"
   ]
  },
  {
   "cell_type": "code",
   "execution_count": null,
   "id": "eba00c89-0db3-4240-ae58-3f412fb36f53",
   "metadata": {},
   "outputs": [],
   "source": []
  }
 ],
 "metadata": {
  "kernelspec": {
   "display_name": "pyiron",
   "language": "python",
   "name": "pyiron"
  },
  "language_info": {
   "codemirror_mode": {
    "name": "ipython",
    "version": 3
   },
   "file_extension": ".py",
   "mimetype": "text/x-python",
   "name": "python",
   "nbconvert_exporter": "python",
   "pygments_lexer": "ipython3",
   "version": "3.12.10"
  }
 },
 "nbformat": 4,
 "nbformat_minor": 5
}
