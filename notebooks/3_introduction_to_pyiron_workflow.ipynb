{
 "cells": [
  {
   "cell_type": "markdown",
   "id": "371357f0-f8bd-4699-a912-7fa813e2d719",
   "metadata": {},
   "source": [
    "# Introduction to `pyiron_workflow`\n",
    "\n",
    "`pyiron_workflow` is a framework for constructing workflows as computational graphs from simple python functions. Its objective is to make it as easy as possible to create reliable, reusable, and sharable workflows, with a special focus on research workflows for HPC environments.\n",
    "\n",
    "Nodes are formed from python functions with simple decorators, and the resulting nodes can have their data inputs and outputs connected. Unlike regular python, they operate in a delayed way.\n",
    "\n",
    "By allowing (but not demanding, in the case of data DAGs) users to specify the execution flow, both cyclic and acyclic graphs are supported.\n",
    "\n",
    "By scraping type hints from decorated functions, both new data values and new graph connections are (optionally) required to conform to hints, making workflows strongly typed."
   ]
  },
  {
   "cell_type": "code",
   "execution_count": 1,
   "id": "94f9d610-0f17-4feb-b802-0fcd1a86e91c",
   "metadata": {},
   "outputs": [],
   "source": [
    "from datetime import datetime"
   ]
  },
  {
   "cell_type": "code",
   "execution_count": 2,
   "id": "8ba87ae9-3686-4e02-a19d-47618d8a97bb",
   "metadata": {},
   "outputs": [],
   "source": [
    "def get_speed(distance: int | float, time: int | float) -> int | float:\n",
    "    speed = distance / time\n",
    "    return speed"
   ]
  },
  {
   "cell_type": "code",
   "execution_count": 3,
   "id": "5d6e9d8f-ed47-4cab-85b8-fab8c7f75f7e",
   "metadata": {},
   "outputs": [],
   "source": [
    "def get_time(starting_time, finishing_time):\n",
    "    return (finishing_time - starting_time).seconds"
   ]
  },
  {
   "cell_type": "code",
   "execution_count": 4,
   "id": "ba24ce2d-94ee-4bdb-bd7b-b87fc7fd943e",
   "metadata": {},
   "outputs": [],
   "source": [
    "distance = 10.\n",
    "\n",
    "starting_time = datetime(2025, 6, 5, 12)\n",
    "finishing_time = datetime(2025, 6, 5, 13)"
   ]
  },
  {
   "cell_type": "code",
   "execution_count": 5,
   "id": "61cbb168-409f-4638-a30b-35e6a605b964",
   "metadata": {},
   "outputs": [],
   "source": [
    "time = get_time(starting_time=starting_time, finishing_time=finishing_time)\n",
    "speed = get_speed(distance=distance, time=time)"
   ]
  },
  {
   "cell_type": "code",
   "execution_count": 6,
   "id": "e9daf63f-7061-406c-9e39-2dc5ec67de2c",
   "metadata": {},
   "outputs": [
    {
     "name": "stdout",
     "output_type": "stream",
     "text": [
      "Speed: 0.002777777777777778\n"
     ]
    }
   ],
   "source": [
    "print(\"Speed:\", speed)"
   ]
  },
  {
   "cell_type": "code",
   "execution_count": null,
   "id": "8fce6dde-3db6-40ac-910a-4db09c8ed5d4",
   "metadata": {},
   "outputs": [],
   "source": []
  },
  {
   "cell_type": "code",
   "execution_count": null,
   "id": "1a5347fb-dd93-4a98-a2ab-725b1ab0e867",
   "metadata": {},
   "outputs": [],
   "source": []
  },
  {
   "cell_type": "code",
   "execution_count": null,
   "id": "269ee302-87b2-40ba-8de0-6803ed37630c",
   "metadata": {},
   "outputs": [],
   "source": []
  }
 ],
 "metadata": {
  "kernelspec": {
   "display_name": "pyiron",
   "language": "python",
   "name": "pyiron"
  },
  "language_info": {
   "codemirror_mode": {
    "name": "ipython",
    "version": 3
   },
   "file_extension": ".py",
   "mimetype": "text/x-python",
   "name": "python",
   "nbconvert_exporter": "python",
   "pygments_lexer": "ipython3",
   "version": "3.12.10"
  }
 },
 "nbformat": 4,
 "nbformat_minor": 5
}
