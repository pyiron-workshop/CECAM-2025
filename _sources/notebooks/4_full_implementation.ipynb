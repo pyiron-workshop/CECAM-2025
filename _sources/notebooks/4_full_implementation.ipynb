{
 "cells": [
  {
   "cell_type": "markdown",
   "id": "5ecc742d-4dde-466b-9072-1156177382b6",
   "metadata": {},
   "source": [
    "# E-V curve calculation\n",
    "\n",
    "In Ab-initio calculations, we usually use the so called E-V curve in order to determine the minimum energy lattice parameter for a given setup. It's very simple: You calculate the total energy of the system for various lattice parameters, fit the curve and determine the minimum energy lattice parameter."
   ]
  },
  {
   "cell_type": "code",
   "execution_count": 1,
   "id": "3b75578c-d6e7-4e14-b73d-0a22233f1277",
   "metadata": {},
   "outputs": [],
   "source": [
    "from pyiron_workflow import Workflow, function_node"
   ]
  },
  {
   "cell_type": "code",
   "execution_count": 2,
   "id": "beafad75-8e13-4f15-9481-a8bdab5377dd",
   "metadata": {},
   "outputs": [],
   "source": [
    "from ase.atoms import Atoms\n",
    "from ase.build import bulk\n",
    "import matplotlib.pylab as plt"
   ]
  },
  {
   "cell_type": "code",
   "execution_count": 3,
   "id": "6a5d6e28-23aa-4b99-b48f-03a53611c782",
   "metadata": {},
   "outputs": [
    {
     "name": "stderr",
     "output_type": "stream",
     "text": [
      "/home/jovyan/dev/atomistics/atomistics/calculators/__init__.py:63: UserWarning: calc_static_with_qe(), evaluate_with_qe() and optimize_positions_and_volume_with_qe() are not available as the import of the module named 'pwtools' failed.\n",
      "  raise_warning(module_list=quantum_espresso_function, import_error=e)\n",
      "/home/jovyan/dev/atomistics/atomistics/calculators/lammps/__init__.py:41: UserWarning: calc_molecular_dynamics_phonons_with_lammpslib() is not available as the import of the module named 'dynaphopy' failed.\n",
      "  raise_warning(module_list=lammps_phonon_functions, import_error=e)\n",
      "/home/jovyan/dev/atomistics/atomistics/calculators/__init__.py:94: UserWarning: calc_molecular_dynamics_phonons_with_lammpslib() is not available as the import of the module named 'dynaphopy' failed.\n",
      "  raise_warning(module_list=lammps_phonon_functions, import_error=e)\n",
      "/home/jovyan/dev/atomistics/atomistics/calculators/__init__.py:104: UserWarning: evaluate_with_sphinx() is not available as the import of the module named 'semantikon.typing' failed.\n",
      "  raise_warning(module_list=sphinx_functions, import_error=e)\n"
     ]
    }
   ],
   "source": [
    "from atomistics.workflows import optimize_positions_and_volume\n",
    "from atomistics.workflows.evcurve.helper import (\n",
    "    analyse_structures_helper,\n",
    "    generate_structures_helper,\n",
    ")\n",
    "from atomistics.calculators import (\n",
    "    evaluate_with_lammpslib,\n",
    "    get_potential_by_name,\n",
    ")"
   ]
  },
  {
   "cell_type": "code",
   "execution_count": 4,
   "id": "cf60ad19-1a7c-4976-83ae-d8491f91efb2",
   "metadata": {},
   "outputs": [],
   "source": [
    "@Workflow.wrap.as_function_node\n",
    "def evcurve_generate_structures(structure: dict, vol_range: float, num_points: int) -> dict:\n",
    "    return {\n",
    "        \"calc_energy\": generate_structures_helper(\n",
    "            structure=structure[\"structure_with_optimized_positions_and_volume\"],\n",
    "            vol_range=vol_range,\n",
    "            num_points=num_points,\n",
    "        ),\n",
    "    }"
   ]
  },
  {
   "cell_type": "code",
   "execution_count": 5,
   "id": "6ff036c5-9036-4b29-ab5e-e6bbb6bc96b7",
   "metadata": {},
   "outputs": [],
   "source": [
    "@Workflow.wrap.as_function_node(\"analyse\")\n",
    "def evcurve_analyse_structures(output_dict: dict, structure_dict: dict, fit_type: str = \"polynomial\", fit_order: int = 3) -> dict:\n",
    "    return analyse_structures_helper(\n",
    "        output_dict=output_dict,\n",
    "        structure_dict=structure_dict[\"calc_energy\"],\n",
    "        fit_type=fit_type,\n",
    "        fit_order=fit_order,\n",
    "    )"
   ]
  },
  {
   "cell_type": "code",
   "execution_count": 6,
   "id": "c31953ff-5394-48ac-a6ac-5807499a98ab",
   "metadata": {},
   "outputs": [],
   "source": [
    "@Workflow.wrap.as_function_node(\"bulk\")\n",
    "def get_bulk(name, cubic=True):\n",
    "    return bulk(name=name, cubic=cubic)"
   ]
  },
  {
   "cell_type": "code",
   "execution_count": 7,
   "id": "31c39853-1ba0-4949-9563-724c06413a9c",
   "metadata": {},
   "outputs": [],
   "source": [
    "@Workflow.wrap.as_function_node\n",
    "def evaluate(task_dict, potential_dataframe):\n",
    "    return evaluate_with_lammpslib(task_dict=task_dict, potential_dataframe=potential_dataframe)"
   ]
  },
  {
   "cell_type": "code",
   "execution_count": 13,
   "id": "66e89ddc-4d2a-40b0-b3ba-cee126bce456",
   "metadata": {},
   "outputs": [],
   "source": [
    "import numpy as np\n",
    "import matplotlib.pyplot as plt\n",
    "\n",
    "L = 1.0         # Length of the bar [m]\n",
    "n = 10          # Number of elements\n",
    "g = 9.81        # Mean gravitational acceleration on earth [m/s^2]\n",
    "\n",
    "@Workflow.wrap.as_function_node\n",
    "def create_mesh(n, L):\n",
    "    nodes = np.linspace(0, L, n + 1)\n",
    "    h = L / n\n",
    "    return nodes, h\n",
    "\n",
    "@Workflow.wrap.as_function_node\n",
    "def assemble_stiffness_matrix(n, h, rho, g, E):\n",
    "    a = np.ones((1, n + 1))[0]\n",
    "    b = np.ones((1, n))[0]\n",
    "    K = -2 * np.diag(a, 0) + np.diag(b, -1) + np.diag(b, 1)\n",
    "    K[0, 0] = K[-1, -1] = -1\n",
    "    K *= -E / h\n",
    "    F = 2 * np.ones(n + 1)\n",
    "    F[0] = F[-1] = 1\n",
    "    F *= rho * g * h / 2\n",
    "    return K, F\n",
    "\n",
    "@Workflow.wrap.as_function_node\n",
    "def apply_boundary_conditions(K, F):\n",
    "    K[0, :] = 0\n",
    "    K[0, 0] = 1\n",
    "    F[0] = 0\n",
    "    return K, F\n",
    "\n",
    "@Workflow.wrap.as_function_node\n",
    "def solve_equation(K, F):\n",
    "    return np.linalg.solve(K, F)\n",
    "\n",
    "\n",
    "@Workflow.wrap.as_function_node\n",
    "def plot_results(nodes, u):\n",
    "    plt.plot(nodes, u, marker='o')\n",
    "    plt.xlabel('x [m]')\n",
    "    plt.ylabel('Displacement u(x) [m]')\n",
    "    plt.title('Axial Displacement of a 1D Bar')\n",
    "    plt.grid(True)\n",
    "    return plt\n",
    "\n"
   ]
  },
  {
   "cell_type": "code",
   "execution_count": 9,
   "id": "4fb20004-701c-4889-93ff-fc690eed4772",
   "metadata": {},
   "outputs": [],
   "source": [
    "@Workflow.wrap.as_function_node\n",
    "def get_murnaghan_results(fit_dict):\n",
    "    E = fit_dict[\"bulkmodul_eq\"] * 1e9\n",
    "    v = fit_dict[\"volume_eq\"] * 1e-30\n",
    "    return E, v\n",
    "\n",
    "@Workflow.wrap.as_function_node\n",
    "def get_mass(structure):\n",
    "    return np.mean(structure.get_masses()) * 1e-3 / 6.022e23\n",
    "\n",
    "@Workflow.wrap.as_function_node\n",
    "def get_density(mass, volume):\n",
    "    return mass / volume"
   ]
  },
  {
   "cell_type": "code",
   "execution_count": 15,
   "id": "cba13f31-088c-4915-abf6-6895bf506074",
   "metadata": {},
   "outputs": [],
   "source": [
    "wf = Workflow(\"EV\")\n",
    "wf.bulk = get_bulk(name=\"Al\")\n",
    "wf.potential = function_node(get_potential_by_name, potential_name=\"1999--Mishin-Y--Al--LAMMPS--ipr1\")\n",
    "wf.opt_task_dict = function_node(optimize_positions_and_volume, structure=wf.bulk)\n",
    "wf.opt_result_dict = evaluate(task_dict=wf.opt_task_dict, potential_dataframe=wf.potential)\n",
    "wf.structure_dict = evcurve_generate_structures(structure=wf.opt_result_dict, vol_range=0.05, num_points=11)\n",
    "wf.result_dict = evaluate(task_dict=wf.structure_dict, potential_dataframe=wf.potential)\n",
    "wf.fit_dict = evcurve_analyse_structures(output_dict=wf.result_dict, structure_dict=wf.structure_dict, fit_type=\"polynomial\", fit_order=3)\n",
    "wf.murnaghan_results = get_murnaghan_results(wf.fit_dict)\n",
    "wf.mass = get_mass(wf.bulk)\n",
    "wf.rho = get_density(wf.mass, wf.murnaghan_results.outputs.v)"
   ]
  },
  {
   "cell_type": "code",
   "execution_count": 16,
   "id": "7d2d0d8d-4b09-413c-9a76-8f5b017c8b61",
   "metadata": {},
   "outputs": [],
   "source": [
    "wf.mesh = create_mesh(n=n, L=L)\n",
    "wf.stiffness_matrix = assemble_stiffness_matrix(n=n, h=wf.mesh.outputs.h, rho=wf.rho, g=g, E=wf.murnaghan_results.outputs.E)\n",
    "wf.boundary_conditions = apply_boundary_conditions(K=wf.stiffness_matrix.outputs.K, F=wf.stiffness_matrix.outputs.F)\n",
    "wf.results = solve_equation(K=wf.boundary_conditions.outputs.K, F=wf.boundary_conditions.outputs.F)\n",
    "wf.plot = plot_results(nodes=wf.mesh.outputs.nodes, u=wf.results)"
   ]
  },
  {
   "cell_type": "code",
   "execution_count": 17,
   "id": "473f2da1-d7be-4c66-b2c1-94ebc17b2135",
   "metadata": {},
   "outputs": [
    {
     "name": "stderr",
     "output_type": "stream",
     "text": [
      "/home/jovyan/dev/atomistics/atomistics/calculators/lammps/potential.py:324: SettingWithCopyWarning: \n",
      "A value is trying to be set on a copy of a slice from a DataFrame.\n",
      "Try using .loc[row_indexer,col_indexer] = value instead\n",
      "\n",
      "See the caveats in the documentation: https://pandas.pydata.org/pandas-docs/stable/user_guide/indexing.html#returning-a-view-versus-a-copy\n",
      "  df_pot[\"Config\"] = config_lst\n"
     ]
    },
    {
     "data": {
      "text/plain": [
       "{'plot__plt': <module 'matplotlib.pyplot' from '/home/jovyan/conda/lib/python3.12/site-packages/matplotlib/pyplot.py'>}"
      ]
     },
     "execution_count": 17,
     "metadata": {},
     "output_type": "execute_result"
    },
    {
     "data": {
      "image/png": "[encoded data removed]",
      "text/plain": [
       "<Figure size 640x480 with 1 Axes>"
      ]
     },
     "metadata": {},
     "output_type": "display_data"
    }
   ],
   "source": [
    "wf.run()"
   ]
  },
  {
   "cell_type": "code",
   "execution_count": null,
   "id": "529942b1-69b9-49d4-ad0c-e870467c697a",
   "metadata": {},
   "outputs": [],
   "source": []
  }
 ],
 "metadata": {
  "kernelspec": {
   "display_name": "pyiron",
   "language": "python",
   "name": "pyiron"
  },
  "language_info": {
   "codemirror_mode": {
    "name": "ipython",
    "version": 3
   },
   "file_extension": ".py",
   "mimetype": "text/x-python",
   "name": "python",
   "nbconvert_exporter": "python",
   "pygments_lexer": "ipython3",
   "version": "3.12.10"
  }
 },
 "nbformat": 4,
 "nbformat_minor": 5
}
